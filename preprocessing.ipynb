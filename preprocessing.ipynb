{
 "cells": [
  {
   "cell_type": "code",
   "execution_count": 1,
   "metadata": {},
   "outputs": [
    {
     "name": "stdout",
     "output_type": "stream",
     "text": [
      "main data fields: dict_keys(['lineage', 'tables', 'joins', 'columns', 'tags'])\n",
      "number of tables to be clustered: 2219\n"
     ]
    }
   ],
   "source": [
    "from pandas import DataFrame, read_csv\n",
    "import matplotlib.pyplot as plt\n",
    "import pandas as pd \n",
    "import sys \n",
    "import matplotlib \n",
    "import os\n",
    "%matplotlib inline\n",
    "import json\n",
    "\n",
    "with open('data.json', 'r') as f:\n",
    "    df = json.load(f)\n",
    "print ('main data fields: {}'.format(df.keys()))\n",
    "print ('number of tables to be clustered: {}'.format(len(df['tables'])))"
   ]
  },
  {
   "cell_type": "code",
   "execution_count": 2,
   "metadata": {
    "collapsed": true
   },
   "outputs": [],
   "source": [
    "# df is the master dataframe read direction from jason, and generate text fields for each table, \n",
    "# including a column that collected all the text information for each data table\n",
    "def generate_table_text_df(df):\n",
    "    df_tables = pd.DataFrame(df['tables'])\n",
    "    df_columns = pd.DataFrame(df['columns'])\n",
    "    tables = df_tables[['fp', 'id', 'datasource_name', 'name', 'schema_name', 'title', 'description', 'popularity']]\n",
    "    # extract columns from original table information\n",
    "    columns = df_columns[['table_fp', 'table_id', 'name', 'table_name', 'title', 'popularity', 'fp']]\n",
    "    # remove the two column without names\n",
    "    columns = columns.iloc[2:]\n",
    "    # get column names for each table\n",
    "    col_names = columns.groupby('table_fp')['name'].apply(' '.join).reset_index()\n",
    "    \n",
    "    table_col_names = tables.join(col_names.set_index('table_fp'), on = 'fp', rsuffix = '_col')\n",
    "    table_text = table_col_names[['fp', 'id', 'datasource_name', 'name', 'schema_name', 'title', 'description', 'name_col']].copy()\n",
    "    table_text[['fp', 'id','datasource_name', 'name', 'schema_name', 'title', 'description', 'name_col']] = table_text[\n",
    "        ['fp', 'id','datasource_name', 'name', 'schema_name', 'title', 'description', 'name_col']].astype('str')\n",
    "    table_text['text_info'] = table_text[['datasource_name', 'name', \n",
    "                         'schema_name', 'title', 'name_col']].apply(lambda x:  \" \".join(x), axis=1)\n",
    "    return table_text, col_names, columns"
   ]
  },
  {
   "cell_type": "code",
   "execution_count": 3,
   "metadata": {},
   "outputs": [
    {
     "data": {
      "text/html": [
       "<div>\n",
       "<style scoped>\n",
       "    .dataframe tbody tr th:only-of-type {\n",
       "        vertical-align: middle;\n",
       "    }\n",
       "\n",
       "    .dataframe tbody tr th {\n",
       "        vertical-align: top;\n",
       "    }\n",
       "\n",
       "    .dataframe thead th {\n",
       "        text-align: right;\n",
       "    }\n",
       "</style>\n",
       "<table border=\"1\" class=\"dataframe\">\n",
       "  <thead>\n",
       "    <tr style=\"text-align: right;\">\n",
       "      <th></th>\n",
       "      <th>table_fp</th>\n",
       "      <th>table_id</th>\n",
       "      <th>name</th>\n",
       "      <th>table_name</th>\n",
       "      <th>title</th>\n",
       "      <th>popularity</th>\n",
       "      <th>fp</th>\n",
       "    </tr>\n",
       "  </thead>\n",
       "  <tbody>\n",
       "    <tr>\n",
       "      <th>2</th>\n",
       "      <td>3367216718368952925</td>\n",
       "      <td>3</td>\n",
       "      <td>table1_pk_col</td>\n",
       "      <td>table1</td>\n",
       "      <td></td>\n",
       "      <td>0.0</td>\n",
       "      <td>2165169567917872817</td>\n",
       "    </tr>\n",
       "    <tr>\n",
       "      <th>3</th>\n",
       "      <td>3367216718368952925</td>\n",
       "      <td>3</td>\n",
       "      <td>table1_char_col</td>\n",
       "      <td>table1</td>\n",
       "      <td></td>\n",
       "      <td>0.0</td>\n",
       "      <td>703205646241500466</td>\n",
       "    </tr>\n",
       "    <tr>\n",
       "      <th>4</th>\n",
       "      <td>3367216718368952925</td>\n",
       "      <td>3</td>\n",
       "      <td>table1_varchar_col</td>\n",
       "      <td>table1</td>\n",
       "      <td></td>\n",
       "      <td>0.0</td>\n",
       "      <td>2376408241062256224</td>\n",
       "    </tr>\n",
       "    <tr>\n",
       "      <th>5</th>\n",
       "      <td>3367216718368952925</td>\n",
       "      <td>3</td>\n",
       "      <td>table1_date_col</td>\n",
       "      <td>table1</td>\n",
       "      <td></td>\n",
       "      <td>0.0</td>\n",
       "      <td>1267002101680272448</td>\n",
       "    </tr>\n",
       "    <tr>\n",
       "      <th>6</th>\n",
       "      <td>5955604996812906401</td>\n",
       "      <td>4</td>\n",
       "      <td>fips</td>\n",
       "      <td>census_data1</td>\n",
       "      <td></td>\n",
       "      <td>0.0</td>\n",
       "      <td>1148298353030312426</td>\n",
       "    </tr>\n",
       "  </tbody>\n",
       "</table>\n",
       "</div>"
      ],
      "text/plain": [
       "              table_fp  table_id                name    table_name title  \\\n",
       "2  3367216718368952925         3       table1_pk_col        table1         \n",
       "3  3367216718368952925         3     table1_char_col        table1         \n",
       "4  3367216718368952925         3  table1_varchar_col        table1         \n",
       "5  3367216718368952925         3     table1_date_col        table1         \n",
       "6  5955604996812906401         4                fips  census_data1         \n",
       "\n",
       "   popularity                   fp  \n",
       "2         0.0  2165169567917872817  \n",
       "3         0.0   703205646241500466  \n",
       "4         0.0  2376408241062256224  \n",
       "5         0.0  1267002101680272448  \n",
       "6         0.0  1148298353030312426  "
      ]
     },
     "execution_count": 3,
     "metadata": {},
     "output_type": "execute_result"
    }
   ],
   "source": [
    "table_text, col_names, columns  = generate_table_text_df(df)\n",
    "columns.head()\n",
    "#table_text.head()['text_info']"
   ]
  },
  {
   "cell_type": "code",
   "execution_count": 4,
   "metadata": {
    "collapsed": true
   },
   "outputs": [],
   "source": [
    "def generate_table_tags_df(df):\n",
    "    num_table_tags = 0\n",
    "    num_column_tags = 0\n",
    "    table_id = []\n",
    "    column_id = []\n",
    "    tags = []\n",
    "    for key, value in df['tags'].items():    \n",
    "        for i in range(len(value)):\n",
    "            if value[i][0] == int(27):\n",
    "                num_table_tags += 1\n",
    "                table_id.append(value[i][1])\n",
    "                tags.append(key)\n",
    "            elif value[i][0] == int(1):\n",
    "                num_column_tags += 1\n",
    "                column_id.append(value[i][1])\n",
    "    print (\"{} out of 2219 tables have tags, and {} out of 30K+ columns have tags\".\n",
    "           format(num_table_tags, num_column_tags))\n",
    "    print ('there are {} unique tags for tables'.format(len(set(table_id))))\n",
    "    return pd.DataFrame({'table_id' : table_id, 'tags' : tags})"
   ]
  },
  {
   "cell_type": "code",
   "execution_count": 5,
   "metadata": {},
   "outputs": [
    {
     "name": "stdout",
     "output_type": "stream",
     "text": [
      "87 out of 2219 tables have tags, and 39 out of 30K+ columns have tags\n",
      "there are 48 unique tags for tables\n"
     ]
    },
    {
     "data": {
      "text/html": [
       "<div>\n",
       "<style scoped>\n",
       "    .dataframe tbody tr th:only-of-type {\n",
       "        vertical-align: middle;\n",
       "    }\n",
       "\n",
       "    .dataframe tbody tr th {\n",
       "        vertical-align: top;\n",
       "    }\n",
       "\n",
       "    .dataframe thead th {\n",
       "        text-align: right;\n",
       "    }\n",
       "</style>\n",
       "<table border=\"1\" class=\"dataframe\">\n",
       "  <thead>\n",
       "    <tr style=\"text-align: right;\">\n",
       "      <th></th>\n",
       "      <th>table_id</th>\n",
       "      <th>tags</th>\n",
       "    </tr>\n",
       "  </thead>\n",
       "  <tbody>\n",
       "    <tr>\n",
       "      <th>43</th>\n",
       "      <td>1285</td>\n",
       "      <td>PII</td>\n",
       "    </tr>\n",
       "    <tr>\n",
       "      <th>44</th>\n",
       "      <td>1286</td>\n",
       "      <td>transactions trade</td>\n",
       "    </tr>\n",
       "    <tr>\n",
       "      <th>45</th>\n",
       "      <td>1290</td>\n",
       "      <td>excel</td>\n",
       "    </tr>\n",
       "    <tr>\n",
       "      <th>46</th>\n",
       "      <td>1730</td>\n",
       "      <td>PII Healthcare</td>\n",
       "    </tr>\n",
       "    <tr>\n",
       "      <th>47</th>\n",
       "      <td>2110</td>\n",
       "      <td>Sales PII</td>\n",
       "    </tr>\n",
       "  </tbody>\n",
       "</table>\n",
       "</div>"
      ],
      "text/plain": [
       "    table_id                tags\n",
       "43      1285                 PII\n",
       "44      1286  transactions trade\n",
       "45      1290               excel\n",
       "46      1730      PII Healthcare\n",
       "47      2110           Sales PII"
      ]
     },
     "execution_count": 5,
     "metadata": {},
     "output_type": "execute_result"
    }
   ],
   "source": [
    "table_tags_df = generate_table_tags_df(df)\n",
    "table_tags_df = table_tags_df.groupby('table_id')['tags'].apply(' '.join).reset_index()\n",
    "table_tags_df.tail()"
   ]
  },
  {
   "cell_type": "code",
   "execution_count": 6,
   "metadata": {
    "collapsed": true
   },
   "outputs": [],
   "source": [
    "table_text.to_csv('table_df_text.csv', index = False)\n",
    "table_tags_df.to_csv('table_w_tags.csv', index = False)"
   ]
  },
  {
   "cell_type": "code",
   "execution_count": null,
   "metadata": {
    "collapsed": true
   },
   "outputs": [],
   "source": []
  }
 ],
 "metadata": {
  "kernelspec": {
   "display_name": "Python 3",
   "language": "python",
   "name": "python3"
  },
  "language_info": {
   "codemirror_mode": {
    "name": "ipython",
    "version": 3
   },
   "file_extension": ".py",
   "mimetype": "text/x-python",
   "name": "python",
   "nbconvert_exporter": "python",
   "pygments_lexer": "ipython3",
   "version": "3.6.3"
  }
 },
 "nbformat": 4,
 "nbformat_minor": 2
}
